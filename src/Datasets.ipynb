{
 "cells": [
  {
   "cell_type": "markdown",
   "metadata": {},
   "source": [
    "## Online Retail ###"
   ]
  },
  {
   "cell_type": "markdown",
   "metadata": {},
   "source": [
    "taken from `https://archive.ics.uci.edu/dataset/352/online+retail`"
   ]
  },
  {
   "cell_type": "code",
   "execution_count": null,
   "metadata": {},
   "outputs": [],
   "source": [
    "#import from online repos\n",
    "\n",
    "#pip install ucimlrepo\n",
    "\n",
    "import pandas as pd\n",
    "import matplotlib.pyplot as plt\n",
    "import numpy as np\n",
    "\n",
    "from ucimlrepo import fetch_ucirepo  \n",
    " \n",
    "online_retail = fetch_ucirepo(id=352) \n",
    "  \n",
    "print('METADATA') \n",
    "print(online_retail.metadata) \n",
    "  \n",
    "print(\"VARIABLES\") \n",
    "print(online_retail.variables) \n"
   ]
  },
  {
   "cell_type": "code",
   "execution_count": null,
   "metadata": {},
   "outputs": [],
   "source": [
    "#dataset exploration\n",
    "\n",
    "for k in online_retail.keys():\n",
    "    for j in online_retail[k].keys():\n",
    "        x= online_retail[k][j]\n",
    "        if hasattr(x, 'shape'):\n",
    "            print(k,j, x.shape)\n",
    "        else: \n",
    "            print(k,j)"
   ]
  },
  {
   "cell_type": "code",
   "execution_count": null,
   "metadata": {},
   "outputs": [],
   "source": [
    "#keep the relevant features\n",
    "\n",
    "df = online_retail['data']['features'][['Description', 'InvoiceDate', 'Quantity']]\n",
    "\n",
    "items = df.Description.unique()\n",
    "items = sorted([str(item) for item in items])\n",
    "\n",
    "df.loc[:,'InvoiceDate'] = pd.to_datetime(df.InvoiceDate).dt.date\n",
    "start, end = min(df.InvoiceDate), max(df.InvoiceDate)\n",
    "\n",
    "df = df.groupby(['Description', 'InvoiceDate'], group_keys=False)['Quantity'].sum()\n",
    "\n",
    "start, end"
   ]
  },
  {
   "cell_type": "code",
   "execution_count": null,
   "metadata": {},
   "outputs": [],
   "source": [
    "#fill the missing zeros\n",
    "\n",
    "items = items[:items.index('add stock to allocate online orders')]\n",
    "\n",
    "items_new = []\n",
    "data = {}\n",
    "\n",
    "for item in items:\n",
    "    if any(df[item] < 0):\n",
    "        continue\n",
    "    ts = df[item].reindex(pd.date_range(start, end),fill_value=0)\n",
    "    data[item] = {\n",
    "        'Values' : ts.values,\n",
    "        'Date' : ts.index\n",
    "    }\n",
    "    items_new.append(item)\n",
    "\n",
    "len(items_new)"
   ]
  },
  {
   "cell_type": "code",
   "execution_count": null,
   "metadata": {},
   "outputs": [],
   "source": [
    "#just make a plot\n",
    "\n",
    "item = list(data.keys())[0]\n",
    "ts = data[item]\n",
    "plt.plot(ts['Date'], ts['Values'])\n",
    "ts['Values']"
   ]
  },
  {
   "cell_type": "code",
   "execution_count": null,
   "metadata": {},
   "outputs": [],
   "source": [
    "#save it into another format (.json)\n",
    "\n",
    "df = pd.DataFrame({\n",
    "    'target' : [list(data[item]['Values']) for item in items_new],\n",
    "    'start' : [str(data[item]['Date'][0]) for item in items_new],\n",
    "    'feat_stat_cat' : [[i] for i in range(len(items_new))]\n",
    "})\n",
    "\n",
    "path = \"/Users/stefano.damato/switchdrive/Private/PhD/data/OnlineRetail/\"\n",
    "df.to_json(path + 'data.json')\n",
    "\n",
    "pd.read_json(path + 'data.json')"
   ]
  },
  {
   "cell_type": "code",
   "execution_count": null,
   "metadata": {},
   "outputs": [],
   "source": [
    "#save a .csv too\n",
    "\n",
    "pd.DataFrame(np.array([list(data[item]['Values']) for item in items_new],\n",
    "                      dtype=np.int64)).to_csv(path + 'data.csv', index=False)\n",
    "\n",
    "pd.read_csv(path + 'data.csv')"
   ]
  },
  {
   "cell_type": "markdown",
   "metadata": {},
   "source": [
    "## Auto ##"
   ]
  },
  {
   "cell_type": "markdown",
   "metadata": {},
   "source": [
    "taken from `https://github.com/canerturkmen/gluon-ts/tree/intermittent-datasets/datasets/intermittent_auto`"
   ]
  },
  {
   "cell_type": "code",
   "execution_count": null,
   "metadata": {},
   "outputs": [],
   "source": [
    "#get .json from url\n",
    "\n",
    "import pandas as pd\n",
    "import numpy as np\n",
    "\n",
    "test_url = 'https://raw.githubusercontent.com/canerturkmen/gluon-ts/intermittent-datasets/datasets/intermittent_auto/test/data.json'\n",
    "train_url = 'https://raw.githubusercontent.com/canerturkmen/gluon-ts/intermittent-datasets/datasets/intermittent_auto/train/data.json'\n",
    "\n",
    "train = pd.read_json(train_url)\n",
    "test = pd.read_json(test_url)"
   ]
  },
  {
   "cell_type": "code",
   "execution_count": null,
   "metadata": {},
   "outputs": [],
   "source": [
    "#just print some infos\n",
    "\n",
    "i = 1234\n",
    "print(len(train.target[i]), len(test.target[i]))\n",
    "train.iloc[i,], test.iloc[i]"
   ]
  },
  {
   "cell_type": "code",
   "execution_count": null,
   "metadata": {},
   "outputs": [],
   "source": [
    "#save the files\n",
    "\n",
    "path = \"/Users/stefano.damato/switchdrive/Private/PhD/data/Auto/\"\n",
    "\n",
    "train.to_json(path + \"train.json\")\n",
    "test.to_json(path + \"test.json\")\n",
    "\n",
    "pd.read_json(path + \"test.json\")"
   ]
  },
  {
   "cell_type": "code",
   "execution_count": null,
   "metadata": {},
   "outputs": [],
   "source": [
    "#collect it into a .csv too\n",
    "\n",
    "data = np.empty((len(test), 24))\n",
    "\n",
    "for i, ts in enumerate(test.target):\n",
    "    data[i,] = np.array(ts, dtype=np.int64)\n",
    "\n",
    "pd.DataFrame(data).to_csv(path + 'data.csv', index=False)\n",
    "\n",
    "pd.read_csv(path + 'data.csv')"
   ]
  },
  {
   "cell_type": "markdown",
   "metadata": {},
   "source": [
    "## RAF ##"
   ]
  },
  {
   "cell_type": "markdown",
   "metadata": {},
   "source": [
    "taken from `https://github.com/canerturkmen/gluon-ts/tree/intermittent-datasets/datasets/intermittent_raf`"
   ]
  },
  {
   "cell_type": "code",
   "execution_count": null,
   "metadata": {},
   "outputs": [],
   "source": [
    "path = \"/Users/stefano.damato/switchdrive/Private/PhD/data/RAF/\"\n",
    "\n",
    "train = pd.read_json(path + 'train.json')\n",
    "test = pd.read_json(path + 'test.json')\n",
    "test"
   ]
  },
  {
   "cell_type": "code",
   "execution_count": null,
   "metadata": {},
   "outputs": [],
   "source": [
    "i = 1234\n",
    "print(len(train.target[i]), len(test.target[i]))\n",
    "train.iloc[i,], test.iloc[i]"
   ]
  },
  {
   "cell_type": "code",
   "execution_count": null,
   "metadata": {},
   "outputs": [],
   "source": [
    "pd.DataFrame(np.array([ts for ts in test.target], \n",
    "                      dtype=np.int64)).to_csv(path + 'data.csv', index=False)\n",
    "\n",
    "pd.read_csv(path + 'data.csv')"
   ]
  },
  {
   "cell_type": "markdown",
   "metadata": {},
   "source": [
    "## carparts ##"
   ]
  },
  {
   "cell_type": "code",
   "execution_count": null,
   "metadata": {},
   "outputs": [],
   "source": [
    "#import the data from the original .csv\n",
    "\n",
    "import pandas as pd\n",
    "import datetime\n",
    "\n",
    "path = \"/Users/stefano.damato/switchdrive/Private/PhD/data/carparts/\"\n",
    "\n",
    "pd.read_csv(path + 'carparts.csv', sep=';', index_col=0).T.to_csv(path + 'data.csv', index=False)\n",
    "\n",
    "pd.read_csv(path + 'data.csv')"
   ]
  },
  {
   "cell_type": "code",
   "execution_count": null,
   "metadata": {},
   "outputs": [],
   "source": [
    "#save the .json\n",
    "\n",
    "data = pd.read_csv(path + 'data.csv')\n",
    "\n",
    "start = datetime.date(1998, 1, 1)\n",
    "\n",
    "df_test = pd.DataFrame({\n",
    "    'start' : [str(start) for i in range(len(data))],\n",
    "    'target' : [list(data.iloc[i]) for i in range(len(data))],\n",
    "    'feat_stat_cat' : [[i] for i in range(len(data))]\n",
    "})\n",
    "\n",
    "df_train = pd.DataFrame({\n",
    "    'start' : [str(start) for i in range(len(data))],\n",
    "    'target' : [list(data.iloc[i])[:-6] for i in range(len(data))],\n",
    "    'feat_stat_cat' : [[i] for i in range(len(data))]\n",
    "})\n",
    "\n",
    "df_test.to_json(path + 'test.json')\n",
    "df_train.to_json(path  + 'train.json')\n",
    "\n",
    "pd.read_json(path  + 'test.json')"
   ]
  },
  {
   "cell_type": "markdown",
   "metadata": {},
   "source": [
    "## Syph ##"
   ]
  },
  {
   "cell_type": "code",
   "execution_count": null,
   "metadata": {},
   "outputs": [],
   "source": [
    "#import the data from the original .csv\n",
    "\n",
    "import pandas as pd\n",
    "import datetime\n",
    "\n",
    "path = \"/Users/stefano.damato/switchdrive/Private/PhD/data/Syph/\"\n",
    "\n",
    "pd.read_csv(path + 'syph.csv', sep=';', index_col=0).T.to_csv(path + 'data.csv', index=False)\n",
    "\n",
    "pd.read_csv(path + 'data.csv')"
   ]
  },
  {
   "cell_type": "code",
   "execution_count": null,
   "metadata": {},
   "outputs": [],
   "source": [
    "#save the .json\n",
    "\n",
    "from datetime import datetime\n",
    "\n",
    "data = pd.read_csv(path + 'data.csv')\n",
    "\n",
    "start = datetime(2007, 1, 1)\n",
    "\n",
    "df_test = pd.DataFrame({\n",
    "    'start' : [str(start) for i in range(len(data))],\n",
    "    'target' : [list(data.iloc[i]) for i in range(len(data))],\n",
    "    'feat_stat_cat' : [[i] for i in range(len(data))]\n",
    "})\n",
    "\n",
    "df_train = pd.DataFrame({\n",
    "    'start' : [str(start) for i in range(len(data))],\n",
    "    'target' : [list(data.iloc[i])[:-12] for i in range(len(data))],\n",
    "    'feat_stat_cat' : [[i] for i in range(len(data))]\n",
    "})\n",
    "\n",
    "df_test.to_json(path + 'test.json')\n",
    "df_train.to_json(path  + 'train.json')\n",
    "\n",
    "df_test"
   ]
  },
  {
   "cell_type": "code",
   "execution_count": null,
   "metadata": {},
   "outputs": [],
   "source": [
    "?gluonts.dataset.Dataset"
   ]
  },
  {
   "cell_type": "code",
   "execution_count": null,
   "metadata": {},
   "outputs": [],
   "source": []
  }
 ],
 "metadata": {
  "kernelspec": {
   "display_name": "Python 3",
   "language": "python",
   "name": "python3"
  },
  "language_info": {
   "codemirror_mode": {
    "name": "ipython",
    "version": 3
   },
   "file_extension": ".py",
   "mimetype": "text/x-python",
   "name": "python",
   "nbconvert_exporter": "python",
   "pygments_lexer": "ipython3",
   "version": "3.9.6"
  }
 },
 "nbformat": 4,
 "nbformat_minor": 2
}
