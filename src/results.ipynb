{
 "cells": [
  {
   "cell_type": "code",
   "execution_count": null,
   "metadata": {},
   "outputs": [],
   "source": [
    "import os\n",
    "import numpy as np\n",
    "import pandas as pd\n",
    "import json"
   ]
  },
  {
   "cell_type": "code",
   "execution_count": null,
   "metadata": {},
   "outputs": [],
   "source": [
    "results_path = os.path.join(\"..\",\"trained_models\")\n",
    "experiments_name = [folder for folder in os.listdir(results_path) \n",
    "                    if os.path.isdir(os.path.join(results_path, folder))]\n",
    "\n",
    "experiments_dict = {\n",
    "    'datetime':[],\n",
    "    'dataset':[],\n",
    "    'model':[],\n",
    "    'distribution_head':[],\n",
    "    'scaling':[],\n",
    "    'model_params':[],\n",
    "    'epochs':[],\n",
    "    'early_stop':[],\n",
    "    'actual':[],\n",
    "    'forecast':[],\n",
    "    'metrics':[]\n",
    "}\n",
    "for exp in experiments_name:\n",
    "    exp_split = exp.split('__')\n",
    "    experiments_dict['dataset'].append( exp_split[1] )\n",
    "    experiments_dict['model'].append( exp_split[0] )\n",
    "    experiments_dict['datetime'].append( exp_split[2] )\n",
    "    experiments_dict['actual'].append( os.path.join(results_path,exp,'actuals.npy') )\n",
    "    experiments_dict['forecast'].append( os.path.join(results_path,exp,'forecasts.npy') )\n",
    "    exp_info = json.load(open(os.path.join(results_path,exp,'experiment.json'), \"r\"))\n",
    "    experiments_dict['distribution_head'].append( exp_info['distribution_head'] )\n",
    "    experiments_dict['scaling'].append( exp_info['scaling'] if exp_info['scaling'] else '-' )\n",
    "    experiments_dict['epochs'].append( exp_info['epoch'] )\n",
    "    experiments_dict['early_stop'].append( exp_info['early_stop'] )\n",
    "    experiments_dict['metrics'].append( json.load(open(os.path.join(results_path,exp,'metrics.json'), \"r\")) )\n",
    "    experiments_dict['model_params'].append( json.load(open(os.path.join(results_path,exp,'model_params.json'), \"r\")) )"
   ]
  },
  {
   "cell_type": "code",
   "execution_count": null,
   "metadata": {},
   "outputs": [],
   "source": [
    "experiments_df = pd.DataFrame(experiments_dict)\n",
    "experiments_df['datetime'] = pd.to_datetime(experiments_df['datetime'], format=\"%Y-%m-%d-%H:%M:%S:%f\")\n",
    "experiments_df = experiments_df[experiments_df.dataset == \"M5\"]\n",
    "experiments_df.set_index(['datetime','dataset','model','distribution_head','scaling'], inplace=True)\n",
    "\n",
    "quantile_losses = pd.DataFrame(pd.DataFrame(values['metrics']['quantile_loss']).mean(axis=0)\n",
    "                               for _, values in experiments_df.iterrows())\n",
    "quantile_losses.set_index(experiments_df.index, inplace=True)\n",
    "quantile_losses.style.apply(lambda x: ['background-color: green' if v == x.min() else '' for v in x])"
   ]
  }
 ],
 "metadata": {
  "kernelspec": {
   "display_name": "its",
   "language": "python",
   "name": "python3"
  },
  "language_info": {
   "codemirror_mode": {
    "name": "ipython",
    "version": 3
   },
   "file_extension": ".py",
   "mimetype": "text/x-python",
   "name": "python",
   "nbconvert_exporter": "python",
   "pygments_lexer": "ipython3",
   "version": "3.11.7"
  }
 },
 "nbformat": 4,
 "nbformat_minor": 2
}
