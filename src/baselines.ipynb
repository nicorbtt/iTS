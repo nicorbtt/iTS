{
 "cells": [
  {
   "cell_type": "code",
   "execution_count": 1,
   "metadata": {},
   "outputs": [
    {
     "name": "stderr",
     "output_type": "stream",
     "text": [
      "/Users/stefano.damato/switchdrive/local_packages/gluon-ts/src/gluonts/json.py:101: UserWarning: Using `json`-module for json-handling. Consider installing one of `orjson`, `ujson` to speed up serialization and deserialization.\n",
      "  warnings.warn(\n"
     ]
    }
   ],
   "source": [
    "from dataloader import load_raw, create_datasets\n",
    "from measures import quantile_loss\n",
    "\n",
    "import os\n",
    "import numpy as np\n",
    "from tqdm import tqdm\n",
    "import matplotlib.pyplot as plt\n",
    "import rpy2.robjects as robjects\n",
    "from rpy2.robjects.packages import importr\n",
    "import json\n",
    "from datetime import datetime"
   ]
  },
  {
   "cell_type": "code",
   "execution_count": 2,
   "metadata": {},
   "outputs": [],
   "source": [
    "quantiles = [0.25, 0.5, 0.8, 0.9, 0.95, 0.99]\n",
    "quantiles_str = \", \".join([str(q) for q in quantiles])\n",
    "quantiles_str = f\"c({quantiles_str})\"\n",
    "\n",
    "importr('forecast')\n",
    "importr('smooth')\n",
    "\n",
    "robjects.r(f\"\"\"\n",
    "    quantiles <- {quantiles_str}\n",
    "    iETS <- function(z, h, levels=quantiles) {{\n",
    "        set.seed(0)\n",
    "        model <- smooth::adam(z, model=\"MNN\", occurrence=\"auto\")\n",
    "        pred <- forecast::forecast(model, h=h, interval='simulated', nsim=50000, level=levels, scenarios=T, side='upper')\n",
    "        return(pred)\n",
    "    }}\n",
    "\"\"\")"
   ]
  },
  {
   "cell_type": "code",
   "execution_count": 3,
   "metadata": {},
   "outputs": [],
   "source": [
    "dataset_name = \"OnlineRetail\"\n",
    "dt = datetime.now().strftime(\"%Y-%m-%d-%H:%M:%S:%f\")\n",
    "\n",
    "data_raw, data_info = load_raw(dataset_name=dataset_name, datasets_folder_path=os.path.join(\"..\",\"data\"))\n",
    "datasets = create_datasets(data_raw, data_info)"
   ]
  },
  {
   "cell_type": "markdown",
   "metadata": {},
   "source": [
    "#### iETS"
   ]
  },
  {
   "cell_type": "code",
   "execution_count": 4,
   "metadata": {},
   "outputs": [
    {
     "name": "stderr",
     "output_type": "stream",
     "text": [
      "  4%|▍         | 96/2489 [00:54<19:26,  2.05it/s]R[write to console]: Warning:\n",
      "R[write to console]:  Something went wrong in the estimation of the model and NaNs were produced. If this is a mixed model, consider using the pure ones instead.\n",
      "\n",
      "  5%|▍         | 119/2489 [01:07<22:37,  1.75it/s]R[write to console]: Warning:\n",
      "R[write to console]:  Something went wrong in the estimation of the model and NaNs were produced. If this is a mixed model, consider using the pure ones instead.\n",
      "\n",
      " 11%|█         | 269/2489 [02:23<18:29,  2.00it/s]R[write to console]: Warning:\n",
      "R[write to console]:  Something went wrong in the estimation of the model and NaNs were produced. If this is a mixed model, consider using the pure ones instead.\n",
      "\n",
      " 12%|█▏        | 288/2489 [02:32<17:39,  2.08it/s]R[write to console]: Warning:\n",
      "R[write to console]:  Something went wrong in the estimation of the model and NaNs were produced. If this is a mixed model, consider using the pure ones instead.\n",
      "\n",
      " 12%|█▏        | 305/2489 [02:40<16:20,  2.23it/s]R[write to console]: Warning:\n",
      "R[write to console]:  Something went wrong in the estimation of the model and NaNs were produced. If this is a mixed model, consider using the pure ones instead.\n",
      "\n",
      " 13%|█▎        | 329/2489 [02:51<16:35,  2.17it/s]R[write to console]: Warning:\n",
      "R[write to console]:  Something went wrong in the estimation of the model and NaNs were produced. If this is a mixed model, consider using the pure ones instead.\n",
      "\n",
      " 17%|█▋        | 414/2489 [03:33<16:51,  2.05it/s]R[write to console]: Warning:\n",
      "R[write to console]:  Something went wrong in the estimation of the model and NaNs were produced. If this is a mixed model, consider using the pure ones instead.\n",
      "\n",
      " 21%|██▏       | 535/2489 [04:31<14:19,  2.27it/s]R[write to console]: Warning:\n",
      "R[write to console]:  Something went wrong in the estimation of the model and NaNs were produced. If this is a mixed model, consider using the pure ones instead.\n",
      "\n",
      " 24%|██▍       | 599/2489 [05:01<15:32,  2.03it/s]R[write to console]: Warning:\n",
      "R[write to console]:  Something went wrong in the estimation of the model and NaNs were produced. If this is a mixed model, consider using the pure ones instead.\n",
      "\n",
      " 24%|██▍       | 604/2489 [05:04<15:29,  2.03it/s]R[write to console]: Warning:\n",
      "R[write to console]:  Something went wrong in the estimation of the model and NaNs were produced. If this is a mixed model, consider using the pure ones instead.\n",
      "\n",
      " 25%|██▍       | 617/2489 [05:10<13:33,  2.30it/s]R[write to console]: Warning:\n",
      "R[write to console]:  Something went wrong in the estimation of the model and NaNs were produced. If this is a mixed model, consider using the pure ones instead.\n",
      "\n",
      " 27%|██▋       | 678/2489 [05:40<16:45,  1.80it/s]R[write to console]: Warning:\n",
      "R[write to console]:  Something went wrong in the estimation of the model and NaNs were produced. If this is a mixed model, consider using the pure ones instead.\n",
      "\n",
      " 31%|███       | 761/2489 [06:20<13:45,  2.09it/s]R[write to console]: Warning:\n",
      "R[write to console]:  Something went wrong in the estimation of the model and NaNs were produced. If this is a mixed model, consider using the pure ones instead.\n",
      "\n",
      " 31%|███       | 773/2489 [06:26<13:27,  2.13it/s]R[write to console]: Warning:\n",
      "R[write to console]:  Something went wrong in the estimation of the model and NaNs were produced. If this is a mixed model, consider using the pure ones instead.\n",
      "\n",
      " 31%|███       | 777/2489 [06:28<12:54,  2.21it/s]R[write to console]: Warning:\n",
      "R[write to console]:  Something went wrong in the estimation of the model and NaNs were produced. If this is a mixed model, consider using the pure ones instead.\n",
      "\n",
      " 31%|███▏      | 781/2489 [06:30<12:48,  2.22it/s]R[write to console]: Warning:\n",
      "R[write to console]:  Something went wrong in the estimation of the model and NaNs were produced. If this is a mixed model, consider using the pure ones instead.\n",
      "\n",
      " 35%|███▍      | 866/2489 [16:58<12:42,  2.13it/s]    R[write to console]: Warning:\n",
      "R[write to console]:  Something went wrong in the estimation of the model and NaNs were produced. If this is a mixed model, consider using the pure ones instead.\n",
      "\n",
      " 35%|███▌      | 879/2489 [17:04<13:20,  2.01it/s]R[write to console]: Warning:\n",
      "R[write to console]:  Something went wrong in the estimation of the model and NaNs were produced. If this is a mixed model, consider using the pure ones instead.\n",
      "\n",
      " 36%|███▌      | 884/2489 [17:06<10:47,  2.48it/s]R[write to console]: Warning:\n",
      "R[write to console]:  Something went wrong in the estimation of the model and NaNs were produced. If this is a mixed model, consider using the pure ones instead.\n",
      "\n",
      " 39%|███▉      | 975/2489 [17:50<13:01,  1.94it/s]R[write to console]: Warning:\n",
      "R[write to console]:  Something went wrong in the estimation of the model and NaNs were produced. If this is a mixed model, consider using the pure ones instead.\n",
      "\n",
      " 41%|████      | 1018/2489 [18:12<13:47,  1.78it/s]R[write to console]: Warning:\n",
      "R[write to console]:  Something went wrong in the estimation of the model and NaNs were produced. If this is a mixed model, consider using the pure ones instead.\n",
      "\n",
      " 48%|████▊     | 1203/2489 [19:44<09:30,  2.25it/s]R[write to console]: Warning:\n",
      "R[write to console]:  Something went wrong in the estimation of the model and NaNs were produced. If this is a mixed model, consider using the pure ones instead.\n",
      "\n",
      " 48%|████▊     | 1207/2489 [19:46<09:48,  2.18it/s]R[write to console]: Warning:\n",
      "R[write to console]:  Something went wrong in the estimation of the model and NaNs were produced. If this is a mixed model, consider using the pure ones instead.\n",
      "\n",
      " 49%|████▉     | 1227/2489 [19:56<10:32,  1.99it/s]R[write to console]: Warning:\n",
      "R[write to console]:  Something went wrong in the estimation of the model and NaNs were produced. If this is a mixed model, consider using the pure ones instead.\n",
      "\n",
      " 53%|█████▎    | 1316/2489 [20:41<10:02,  1.95it/s]R[write to console]: Warning:\n",
      "R[write to console]:  Something went wrong in the estimation of the model and NaNs were produced. If this is a mixed model, consider using the pure ones instead.\n",
      "\n",
      " 54%|█████▍    | 1338/2489 [20:52<08:24,  2.28it/s]R[write to console]: Warning:\n",
      "R[write to console]:  Something went wrong in the estimation of the model and NaNs were produced. If this is a mixed model, consider using the pure ones instead.\n",
      "\n",
      " 54%|█████▍    | 1339/2489 [20:52<08:09,  2.35it/s]R[write to console]: Warning:\n",
      "R[write to console]:  Something went wrong in the estimation of the model and NaNs were produced. If this is a mixed model, consider using the pure ones instead.\n",
      "\n",
      " 57%|█████▋    | 1430/2489 [21:41<10:59,  1.61it/s]R[write to console]: Warning:\n",
      "R[write to console]:  Something went wrong in the estimation of the model and NaNs were produced. If this is a mixed model, consider using the pure ones instead.\n",
      "\n",
      " 59%|█████▊    | 1461/2489 [21:58<09:37,  1.78it/s]R[write to console]: Warning:\n",
      "R[write to console]:  Something went wrong in the estimation of the model and NaNs were produced. If this is a mixed model, consider using the pure ones instead.\n",
      "\n",
      " 60%|█████▉    | 1487/2489 [22:13<09:09,  1.82it/s]R[write to console]: Warning:\n",
      "R[write to console]:  Something went wrong in the estimation of the model and NaNs were produced. If this is a mixed model, consider using the pure ones instead.\n",
      "\n",
      " 60%|█████▉    | 1489/2489 [22:14<08:32,  1.95it/s]R[write to console]: Warning:\n",
      "R[write to console]:  Something went wrong in the estimation of the model and NaNs were produced. If this is a mixed model, consider using the pure ones instead.\n",
      "\n",
      " 63%|██████▎   | 1565/2489 [22:59<08:34,  1.80it/s]R[write to console]: Warning:\n",
      "R[write to console]:  Something went wrong in the estimation of the model and NaNs were produced. If this is a mixed model, consider using the pure ones instead.\n",
      "\n",
      " 64%|██████▍   | 1592/2489 [23:14<08:04,  1.85it/s]R[write to console]: Warning:\n",
      "R[write to console]:  Something went wrong in the estimation of the model and NaNs were produced. If this is a mixed model, consider using the pure ones instead.\n",
      "\n",
      " 64%|██████▍   | 1594/2489 [23:16<08:09,  1.83it/s]R[write to console]: Warning:\n",
      "R[write to console]:  Something went wrong in the estimation of the model and NaNs were produced. If this is a mixed model, consider using the pure ones instead.\n",
      "\n",
      " 67%|██████▋   | 1671/2489 [24:00<08:21,  1.63it/s]R[write to console]: Warning:\n",
      "R[write to console]:  Something went wrong in the estimation of the model and NaNs were produced. If this is a mixed model, consider using the pure ones instead.\n",
      "\n",
      " 67%|██████▋   | 1676/2489 [24:03<08:09,  1.66it/s]R[write to console]: Warning:\n",
      "R[write to console]:  Something went wrong in the estimation of the model and NaNs were produced. If this is a mixed model, consider using the pure ones instead.\n",
      "\n",
      " 68%|██████▊   | 1691/2489 [24:11<07:11,  1.85it/s]R[write to console]: Warning:\n",
      "R[write to console]:  Something went wrong in the estimation of the model and NaNs were produced. If this is a mixed model, consider using the pure ones instead.\n",
      "\n",
      " 68%|██████▊   | 1694/2489 [24:12<07:01,  1.89it/s]R[write to console]: Warning:\n",
      "R[write to console]:  Something went wrong in the estimation of the model and NaNs were produced. If this is a mixed model, consider using the pure ones instead.\n",
      "\n",
      " 70%|███████   | 1752/2489 [24:48<08:07,  1.51it/s]R[write to console]: Warning:\n",
      "R[write to console]:  Something went wrong in the estimation of the model and NaNs were produced. If this is a mixed model, consider using the pure ones instead.\n",
      "\n",
      " 71%|███████▏  | 1776/2489 [25:02<06:45,  1.76it/s]R[write to console]: Warning:\n",
      "R[write to console]:  Something went wrong in the estimation of the model and NaNs were produced. If this is a mixed model, consider using the pure ones instead.\n",
      "\n",
      " 74%|███████▍  | 1839/2489 [25:37<05:18,  2.04it/s]R[write to console]: Warning:\n",
      "R[write to console]:  Something went wrong in the estimation of the model and NaNs were produced. If this is a mixed model, consider using the pure ones instead.\n",
      "\n",
      " 74%|███████▍  | 1850/2489 [25:43<05:37,  1.90it/s]R[write to console]: Warning:\n",
      "R[write to console]:  Something went wrong in the estimation of the model and NaNs were produced. If this is a mixed model, consider using the pure ones instead.\n",
      "\n",
      " 76%|███████▌  | 1884/2489 [26:00<06:11,  1.63it/s]R[write to console]: Warning:\n",
      "R[write to console]:  Something went wrong in the estimation of the model and NaNs were produced. If this is a mixed model, consider using the pure ones instead.\n",
      "\n",
      " 76%|███████▌  | 1894/2489 [26:06<05:59,  1.65it/s]R[write to console]: Warning:\n",
      "R[write to console]:  Something went wrong in the estimation of the model and NaNs were produced. If this is a mixed model, consider using the pure ones instead.\n",
      "\n",
      " 80%|███████▉  | 1984/2489 [27:01<04:52,  1.72it/s]R[write to console]: Warning:\n",
      "R[write to console]:  Something went wrong in the estimation of the model and NaNs were produced. If this is a mixed model, consider using the pure ones instead.\n",
      "\n",
      " 80%|████████  | 1992/2489 [27:06<04:52,  1.70it/s]R[write to console]: Warning:\n",
      "R[write to console]:  Something went wrong in the estimation of the model and NaNs were produced. If this is a mixed model, consider using the pure ones instead.\n",
      "\n",
      " 82%|████████▏ | 2053/2489 [27:41<04:10,  1.74it/s]R[write to console]: Warning:\n",
      "R[write to console]:  Something went wrong in the estimation of the model and NaNs were produced. If this is a mixed model, consider using the pure ones instead.\n",
      "\n",
      " 90%|█████████ | 2243/2489 [29:34<02:21,  1.74it/s]R[write to console]: Warning:\n",
      "R[write to console]:  Something went wrong in the estimation of the model and NaNs were produced. If this is a mixed model, consider using the pure ones instead.\n",
      "\n",
      " 91%|█████████ | 2254/2489 [29:39<02:04,  1.88it/s]R[write to console]: Warning:\n",
      "R[write to console]:  Something went wrong in the estimation of the model and NaNs were produced. If this is a mixed model, consider using the pure ones instead.\n",
      "\n",
      " 91%|█████████ | 2271/2489 [29:50<02:13,  1.64it/s]R[write to console]: Warning:\n",
      "R[write to console]:  Something went wrong in the estimation of the model and NaNs were produced. If this is a mixed model, consider using the pure ones instead.\n",
      "\n",
      " 93%|█████████▎| 2303/2489 [30:09<01:51,  1.67it/s]R[write to console]: Warning:\n",
      "R[write to console]:  Something went wrong in the estimation of the model and NaNs were produced. If this is a mixed model, consider using the pure ones instead.\n",
      "\n",
      " 93%|█████████▎| 2316/2489 [30:17<01:40,  1.71it/s]R[write to console]: Warning:\n",
      "R[write to console]:  Something went wrong in the estimation of the model and NaNs were produced. If this is a mixed model, consider using the pure ones instead.\n",
      "\n",
      " 96%|█████████▌| 2387/2489 [30:58<01:02,  1.64it/s]R[write to console]: Warning:\n",
      "R[write to console]:  Something went wrong in the estimation of the model and NaNs were produced. If this is a mixed model, consider using the pure ones instead.\n",
      "\n",
      " 99%|█████████▉| 2461/2489 [31:42<00:16,  1.73it/s]R[write to console]: Warning:\n",
      "R[write to console]:  Something went wrong in the estimation of the model and NaNs were produced. If this is a mixed model, consider using the pure ones instead.\n",
      "\n",
      "100%|██████████| 2489/2489 [31:57<00:00,  1.30it/s]\n"
     ]
    },
    {
     "data": {
      "text/plain": [
       "(2489, 28, 6)"
      ]
     },
     "execution_count": 4,
     "metadata": {},
     "output_type": "execute_result"
    }
   ],
   "source": [
    "quantile_forecasts = np.empty(shape=(len(datasets['test']), data_info['h'], len(quantiles)))\n",
    "actuals = np.zeros(shape=(len(datasets['test']), data_info['h']))\n",
    "for i in tqdm(range(len(datasets['test']))):\n",
    "    serie_train = datasets['valid'][i]['target']\n",
    "    serie_test = datasets['test'][i]['target'][-data_info['h']:]\n",
    "    quantile_forecasts[i] =  np.array(robjects.r['iETS'](robjects.vectors.FloatVector(serie_train), data_info['h']).rx2('upper'))\n",
    "    actuals[i] = serie_test\n",
    "\n",
    "quantile_forecasts.shape # (N x h x Q)"
   ]
  },
  {
   "cell_type": "code",
   "execution_count": 5,
   "metadata": {},
   "outputs": [],
   "source": [
    "model_folder_path = os.path.join(\"..\",\"trained_models\", \"iETS__\"+dataset_name+\"__\"+dt)\n",
    "if not os.path.exists(path=model_folder_path):\n",
    "    os.makedirs(model_folder_path)\n",
    "    np.save(os.path.join(model_folder_path,\"qforecasts.npy\"), quantile_forecasts)\n",
    "    np.save(os.path.join(model_folder_path,\"actuals.npy\"), actuals)\n",
    "    np.save(os.path.join(model_folder_path,\"q.npy\"), quantiles)\n",
    "    metrics = {\n",
    "        'quantile_loss' : quantile_loss(actuals, quantile_forecasts, quantiles)\n",
    "    }\n",
    "    json.dump(metrics, open(os.path.join(model_folder_path,\"metrics.json\"), \"w\"))"
   ]
  },
  {
   "cell_type": "markdown",
   "metadata": {},
   "source": [
    "#### Zero-forecast"
   ]
  },
  {
   "cell_type": "code",
   "execution_count": 6,
   "metadata": {},
   "outputs": [],
   "source": [
    "model_folder_path = os.path.join(\"..\",\"trained_models\", \"ZeroForecast__\"+dataset_name+\"__\"+dt)\n",
    "if not os.path.exists(path=model_folder_path):\n",
    "    os.makedirs(model_folder_path)\n",
    "    np.save(os.path.join(model_folder_path,\"qforecasts.npy\"), np.zeros_like(quantile_forecasts))\n",
    "    np.save(os.path.join(model_folder_path,\"actuals.npy\"), actuals)\n",
    "    np.save(os.path.join(model_folder_path,\"q.npy\"), quantiles)\n",
    "    metrics = {\n",
    "        'quantile_loss' : quantile_loss(actuals, np.zeros_like(quantile_forecasts), quantiles)\n",
    "    }\n",
    "    json.dump(metrics, open(os.path.join(model_folder_path,\"metrics.json\"), \"w\"))"
   ]
  },
  {
   "cell_type": "markdown",
   "metadata": {},
   "source": [
    "#### NaiveW-forecast"
   ]
  },
  {
   "cell_type": "code",
   "execution_count": 7,
   "metadata": {},
   "outputs": [
    {
     "name": "stderr",
     "output_type": "stream",
     "text": [
      "100%|██████████| 2489/2489 [00:00<00:00, 6228.22it/s]\n"
     ]
    },
    {
     "data": {
      "text/plain": [
       "(2489, 28, 6)"
      ]
     },
     "execution_count": 7,
     "metadata": {},
     "output_type": "execute_result"
    }
   ],
   "source": [
    "quantile_forecasts_naive = np.empty(shape=(len(datasets['test']), data_info['h'], len(quantiles)))\n",
    "actuals = np.zeros(shape=(len(datasets['test']), data_info['h']))\n",
    "for i in tqdm(range(len(datasets['test']))):\n",
    "    serie_train = datasets['valid'][i]['target']\n",
    "    serie_test = datasets['test'][i]['target'][-data_info['h']:]\n",
    "    quantile_forecasts_naive[i] = np.round(np.mean(serie_train[-2*data_info['h']:]))\n",
    "    actuals[i] = serie_test\n",
    "\n",
    "quantile_forecasts_naive.shape # (N x h x Q)"
   ]
  },
  {
   "cell_type": "code",
   "execution_count": 8,
   "metadata": {},
   "outputs": [],
   "source": [
    "model_folder_path = os.path.join(\"..\",\"trained_models\", \"NaiveW__\"+dataset_name+\"__\"+dt)\n",
    "if not os.path.exists(path=model_folder_path):\n",
    "    os.makedirs(model_folder_path)\n",
    "    np.save(os.path.join(model_folder_path,\"qforecasts.npy\"), quantile_forecasts_naive)\n",
    "    np.save(os.path.join(model_folder_path,\"actuals.npy\"), actuals)\n",
    "    np.save(os.path.join(model_folder_path,\"q.npy\"), quantiles)\n",
    "    metrics = {\n",
    "        'quantile_loss' : quantile_loss(actuals, quantile_forecasts_naive, quantiles)\n",
    "    }\n",
    "    json.dump(metrics, open(os.path.join(model_folder_path,\"metrics.json\"), \"w\"))"
   ]
  },
  {
   "cell_type": "markdown",
   "metadata": {},
   "source": [
    "#### EmpiricalQuantiles-forecast ####"
   ]
  },
  {
   "cell_type": "code",
   "execution_count": 9,
   "metadata": {},
   "outputs": [
    {
     "name": "stderr",
     "output_type": "stream",
     "text": [
      "100%|██████████| 2489/2489 [00:00<00:00, 5007.28it/s]\n"
     ]
    },
    {
     "data": {
      "text/plain": [
       "(2489, 28, 6)"
      ]
     },
     "execution_count": 9,
     "metadata": {},
     "output_type": "execute_result"
    }
   ],
   "source": [
    "quantile_forecasts_eq = np.empty(shape=(len(datasets['test']), data_info['h'], len(quantiles)))\n",
    "actuals = np.zeros(shape=(len(datasets['test']), data_info['h']))\n",
    "for i in tqdm(range(len(datasets['test']))):\n",
    "    serie_train = datasets['valid'][i]['target']\n",
    "    serie_test = datasets['test'][i]['target'][-data_info['h']:]\n",
    "    quantile_forecasts_eq[i] = np.tile(np.quantile(serie_train, quantiles), (data_info['h'], 1))\n",
    "    actuals[i] = serie_test\n",
    "\n",
    "quantile_forecasts_eq.shape # (N x h x Q)"
   ]
  },
  {
   "cell_type": "code",
   "execution_count": 10,
   "metadata": {},
   "outputs": [],
   "source": [
    "model_folder_path = os.path.join(\"..\",\"trained_models\", \"EmpQ__\"+dataset_name+\"__\"+dt)\n",
    "if not os.path.exists(path=model_folder_path):\n",
    "    os.makedirs(model_folder_path)\n",
    "    np.save(os.path.join(model_folder_path,\"qforecasts.npy\"), quantile_forecasts_eq)\n",
    "    np.save(os.path.join(model_folder_path,\"actuals.npy\"), actuals)\n",
    "    np.save(os.path.join(model_folder_path,\"q.npy\"), quantiles)\n",
    "    metrics = {\n",
    "        'quantile_loss' : quantile_loss(actuals, quantile_forecasts_eq, quantiles)\n",
    "    }\n",
    "    json.dump(metrics, open(os.path.join(model_folder_path,\"metrics.json\"), \"w\"))"
   ]
  }
 ],
 "metadata": {
  "kernelspec": {
   "display_name": "local_packages",
   "language": "python",
   "name": "local_packages"
  },
  "language_info": {
   "codemirror_mode": {
    "name": "ipython",
    "version": 3
   },
   "file_extension": ".py",
   "mimetype": "text/x-python",
   "name": "python",
   "nbconvert_exporter": "python",
   "pygments_lexer": "ipython3",
   "version": "3.10.13"
  }
 },
 "nbformat": 4,
 "nbformat_minor": 2
}
