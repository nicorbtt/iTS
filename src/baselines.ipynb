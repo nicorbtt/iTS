{
 "cells": [
  {
   "cell_type": "code",
   "execution_count": null,
   "metadata": {},
   "outputs": [],
   "source": [
    "from dataloader import load_raw, create_datasets\n",
    "from measures import quantile_loss\n",
    "\n",
    "import os\n",
    "import numpy as np\n",
    "from tqdm import tqdm\n",
    "import matplotlib.pyplot as plt\n",
    "import rpy2.robjects as robjects\n",
    "from rpy2.robjects.packages import importr\n",
    "import json\n",
    "from datetime import datetime"
   ]
  },
  {
   "cell_type": "code",
   "execution_count": null,
   "metadata": {},
   "outputs": [],
   "source": [
    "quantiles = [0.25, 0.5, 0.8, 0.9, 0.95, 0.99]\n",
    "quantiles_str = \", \".join([str(q) for q in quantiles])\n",
    "quantiles_str = f\"c({quantiles_str})\"\n",
    "\n",
    "importr('forecast')\n",
    "importr('smooth')\n",
    "\n",
    "robjects.r(f\"\"\"\n",
    "    quantiles <- {quantiles_str}\n",
    "    iETS <- function(z, h, levels=quantiles) {{\n",
    "        set.seed(0)\n",
    "        model <- smooth::adam(z, model=\"MNN\", occurrence=\"auto\")\n",
    "        pred <- forecast::forecast(model, h=h, interval='simulated', nsim=50000, level=levels, scenarios=T, side='upper')\n",
    "        return(pred)\n",
    "    }}\n",
    "\"\"\")"
   ]
  },
  {
   "cell_type": "code",
   "execution_count": null,
   "metadata": {},
   "outputs": [],
   "source": [
    "dataset_name = \"carparts\"\n",
    "dt = datetime.now().strftime(\"%Y-%m-%d-%H:%M:%S:%f\")\n",
    "\n",
    "data_raw, data_info = load_raw(dataset_name=dataset_name, datasets_folder_path=os.path.join(\"..\",\"data\"))\n",
    "datasets = create_datasets(data_raw, data_info)"
   ]
  },
  {
   "cell_type": "markdown",
   "metadata": {},
   "source": [
    "#### iETS"
   ]
  },
  {
   "cell_type": "code",
   "execution_count": null,
   "metadata": {},
   "outputs": [],
   "source": [
    "quantile_forecasts = np.empty(shape=(len(datasets['test']), data_info['h'], len(quantiles)))\n",
    "actuals = np.zeros(shape=(len(datasets['test']), data_info['h']))\n",
    "for i in tqdm(range(len(datasets['test']))):\n",
    "    serie_train = datasets['valid'][i]['target']\n",
    "    serie_test = datasets['test'][i]['target'][-data_info['h']:]\n",
    "    quantile_forecasts[i] =  np.array(robjects.r['iETS'](robjects.vectors.FloatVector(serie_train), data_info['h']).rx2('upper'))\n",
    "    actuals[i] = serie_test\n",
    "\n",
    "quantile_forecasts.shape # (N x h x Q)"
   ]
  },
  {
   "cell_type": "code",
   "execution_count": null,
   "metadata": {},
   "outputs": [],
   "source": [
    "model_folder_path = os.path.join(\"..\",\"trained_models\", \"iETS__\"+dataset_name+\"__\"+dt)\n",
    "if not os.path.exists(path=model_folder_path):\n",
    "    os.makedirs(model_folder_path)\n",
    "    np.save(os.path.join(model_folder_path,\"qforecasts.npy\"), quantile_forecasts)\n",
    "    np.save(os.path.join(model_folder_path,\"actuals.npy\"), actuals)\n",
    "    np.save(os.path.join(model_folder_path,\"q.npy\"), quantiles)\n",
    "    metrics = {\n",
    "        'quantile_loss' : quantile_loss(actuals, quantile_forecasts, quantiles)\n",
    "    }\n",
    "    json.dump(metrics, open(os.path.join(model_folder_path,\"metrics.json\"), \"w\"))"
   ]
  },
  {
   "cell_type": "markdown",
   "metadata": {},
   "source": [
    "#### Zero-forecast"
   ]
  },
  {
   "cell_type": "code",
   "execution_count": null,
   "metadata": {},
   "outputs": [],
   "source": [
    "model_folder_path = os.path.join(\"..\",\"trained_models\", \"ZeroForecast__\"+dataset_name+\"__\"+dt)\n",
    "if not os.path.exists(path=model_folder_path):\n",
    "    os.makedirs(model_folder_path)\n",
    "    np.save(os.path.join(model_folder_path,\"qforecasts.npy\"), np.zeros_like(quantile_forecasts))\n",
    "    np.save(os.path.join(model_folder_path,\"actuals.npy\"), actuals)\n",
    "    np.save(os.path.join(model_folder_path,\"q.npy\"), quantiles)\n",
    "    metrics = {\n",
    "        'quantile_loss' : quantile_loss(actuals, np.zeros_like(quantile_forecasts), quantiles)\n",
    "    }\n",
    "    json.dump(metrics, open(os.path.join(model_folder_path,\"metrics.json\"), \"w\"))"
   ]
  },
  {
   "cell_type": "markdown",
   "metadata": {},
   "source": [
    "#### NaiveW-forecast"
   ]
  },
  {
   "cell_type": "code",
   "execution_count": null,
   "metadata": {},
   "outputs": [],
   "source": [
    "quantile_forecasts_naive = np.empty(shape=(len(datasets['test']), data_info['h'], len(quantiles)))\n",
    "actuals = np.zeros(shape=(len(datasets['test']), data_info['h']))\n",
    "for i in tqdm(range(len(datasets['test']))):\n",
    "    serie_train = datasets['valid'][i]['target']\n",
    "    serie_test = datasets['test'][i]['target'][-data_info['h']:]\n",
    "    quantile_forecasts_naive[i] = np.round(np.mean(serie_train[-2*data_info['h']:]))\n",
    "    actuals[i] = serie_test\n",
    "\n",
    "quantile_forecasts_naive.shape # (N x h x Q)"
   ]
  },
  {
   "cell_type": "code",
   "execution_count": null,
   "metadata": {},
   "outputs": [],
   "source": [
    "model_folder_path = os.path.join(\"..\",\"trained_models\", \"NaiveW__\"+dataset_name+\"__\"+dt)\n",
    "if not os.path.exists(path=model_folder_path):\n",
    "    os.makedirs(model_folder_path)\n",
    "    np.save(os.path.join(model_folder_path,\"qforecasts.npy\"), quantile_forecasts_naive)\n",
    "    np.save(os.path.join(model_folder_path,\"actuals.npy\"), actuals)\n",
    "    np.save(os.path.join(model_folder_path,\"q.npy\"), quantiles)\n",
    "    metrics = {\n",
    "        'quantile_loss' : quantile_loss(actuals, quantile_forecasts_naive, quantiles)\n",
    "    }\n",
    "    json.dump(metrics, open(os.path.join(model_folder_path,\"metrics.json\"), \"w\"))"
   ]
  }
 ],
 "metadata": {
  "kernelspec": {
   "display_name": "its",
   "language": "python",
   "name": "python3"
  },
  "language_info": {
   "codemirror_mode": {
    "name": "ipython",
    "version": 3
   },
   "file_extension": ".py",
   "mimetype": "text/x-python",
   "name": "python",
   "nbconvert_exporter": "python",
   "pygments_lexer": "ipython3",
   "version": "3.11.7"
  }
 },
 "nbformat": 4,
 "nbformat_minor": 2
}
