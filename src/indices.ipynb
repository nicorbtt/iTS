{
 "cells": [
  {
   "cell_type": "code",
   "id": "initial_id",
   "metadata": {
    "collapsed": true,
    "ExecuteTime": {
     "end_time": "2024-10-15T12:26:18.460379Z",
     "start_time": "2024-10-15T12:26:06.901122Z"
    }
   },
   "source": [
    "import os\n",
    "import numpy as np\n",
    "\n",
    "from dataloader import load_raw, create_datasets\n",
    "from measures import compute_intermittent_indicators\n",
    "\n",
    "datasets = [\"M5\",\"carparts\",\"OnlineRetail\",\"Auto\",\"RAF\"]\n",
    "d = datasets[2]\n",
    "\n",
    "data_raw, data_info = load_raw(dataset_name=d, datasets_folder_path=os.path.join(\"..\",\"data\"))\n",
    "adi_raw, cv2_raw = compute_intermittent_indicators(data_raw, data_info['h'], na_rm = False, zero_rm=False)\n",
    "adi, cv2 = compute_intermittent_indicators(data_raw, data_info['h'])\n",
    "\n",
    "datasets = create_datasets(data_raw, data_info)\n",
    "\n",
    "mask_nico = \\\n",
    "    np.logical_not(np.all(data_raw.values[:,:-data_info['h']*2]==0, axis=1)) * \\\n",
    "    np.logical_not((np.sum(np.isnan(data_raw.values), axis=1) > 0)) * \\\n",
    "    (adi_raw >= 1.32)\n",
    "mask_ste = \\\n",
    "    np.logical_not(np.all(data_raw.values[:,:-data_info['h']]==0, axis=1)) * \\\n",
    "    np.logical_not((np.sum(np.isnan(data_raw.values), axis=1) > 0)) * \\\n",
    "    (adi_raw >= 1.32) * \\\n",
    "    ((~np.all(data_raw.values[:,:200] == 0, axis=1)) if d==\"OnlineRetail\" else True)\n",
    "\n",
    "assert np.sum(adi>=1.32) == np.sum(mask_nico)\n",
    "\n",
    "print('tot ', data_raw.shape[0])\n",
    "print('nico', np.sum(mask_nico))\n",
    "print('ste ', np.sum(mask_ste))"
   ],
   "outputs": [
    {
     "name": "stdout",
     "output_type": "stream",
     "text": [
      "tot  2489\n",
      "nico 2354\n",
      "ste  2023\n"
     ]
    }
   ],
   "execution_count": 1
  },
  {
   "metadata": {
    "ExecuteTime": {
     "end_time": "2024-10-10T13:01:55.999193Z",
     "start_time": "2024-10-10T13:01:55.983388Z"
    }
   },
   "cell_type": "code",
   "source": [
    "tsi_nico = np.arange(data_raw.shape[0])[mask_nico]\n",
    "tsi_ste = np.arange(data_raw.shape[0])[mask_ste]\n",
    "\n",
    "mask_onlineretail = (~np.isin(tsi_nico, np.setdiff1d(tsi_nico, tsi_ste))) # d must be \"OnlineRetail\" !"
   ],
   "id": "28345136d67954c2",
   "outputs": [],
   "execution_count": 250
  },
  {
   "metadata": {
    "ExecuteTime": {
     "end_time": "2024-10-10T13:04:42.015887Z",
     "start_time": "2024-10-10T13:04:42.000852Z"
    }
   },
   "cell_type": "code",
   "source": "np.save(\"cache_global/mask_onlineretail.npy\", mask_onlineretail)",
   "id": "1cbc1c59697916e6",
   "outputs": [],
   "execution_count": 260
  }
 ],
 "metadata": {
  "kernelspec": {
   "display_name": "Python 3",
   "language": "python",
   "name": "python3"
  },
  "language_info": {
   "codemirror_mode": {
    "name": "ipython",
    "version": 2
   },
   "file_extension": ".py",
   "mimetype": "text/x-python",
   "name": "python",
   "nbconvert_exporter": "python",
   "pygments_lexer": "ipython2",
   "version": "2.7.6"
  }
 },
 "nbformat": 4,
 "nbformat_minor": 5
}
