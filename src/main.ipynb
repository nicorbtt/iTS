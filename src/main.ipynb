{
 "cells": [
  {
   "cell_type": "code",
   "execution_count": null,
   "metadata": {},
   "outputs": [],
   "source": [
    "from dataloader import load_raw, create_datasets, create_dataloaders\n",
    "from visual import learning_curves, forecast_plot, Logger\n",
    "from models import ModelConfigBuilder, forward, predict, EarlyStop\n",
    "from measures import compute_intermittent_indicators, label_intermittent, quantile_loss\n",
    "\n",
    "import os\n",
    "from datetime import datetime\n",
    "import numpy as np\n",
    "from tqdm import tqdm\n",
    "import pickle as pkl\n",
    "import math\n",
    "import torch\n",
    "from gluonts.dataset.field_names import FieldName\n",
    "from accelerate import Accelerator\n",
    "from torch.optim import AdamW"
   ]
  },
  {
   "cell_type": "code",
   "execution_count": null,
   "metadata": {},
   "outputs": [],
   "source": [
    "# Import data\n",
    "DNAME = \"carparts\"\n",
    "data_raw, data_info = load_raw(dataset_name=DNAME, datasets_folder_path=\"../data\")\n",
    "\n",
    "# Compute intermittent indicators\n",
    "adi, cv2 = compute_intermittent_indicators(data_raw)\n",
    "data_info['intermittent'] = label_intermittent(adi, cv2, f=\"intermittent\")\n",
    "data_info['lumpy'] = label_intermittent(adi, cv2, f=\"lumpy\")\n",
    "\n",
    "# Create Datasets (train, valid, test) objects\n",
    "datasets = create_datasets(data_raw, data_info)\n",
    "data_info['N'] = len(datasets['train'])"
   ]
  },
  {
   "cell_type": "code",
   "execution_count": null,
   "metadata": {},
   "outputs": [],
   "source": [
    "# Model config\n",
    "model_builder = ModelConfigBuilder(model=\"transformer\", distribution_head=\"tweedie\", scaling=\"mean-demand\")\n",
    "model_builder.build(data_info)\n",
    "CONFIG = model_builder.params\n",
    "\n",
    "# Dataloaders\n",
    "BATCH_SIZE = 128\n",
    "train_dataloader, valid_dataloader, test_dataloader = create_dataloaders(CONFIG, datasets, data_info, batch_size=BATCH_SIZE)\n",
    "\n",
    "# Build the model\n",
    "model = model_builder.get_model()"
   ]
  },
  {
   "cell_type": "code",
   "execution_count": null,
   "metadata": {},
   "outputs": [],
   "source": [
    "# batch = next(iter(train_dataloader))\n",
    "# for k, v in batch.items():\n",
    "#     print(k, v.shape, v.type())"
   ]
  },
  {
   "cell_type": "code",
   "execution_count": null,
   "metadata": {},
   "outputs": [],
   "source": [
    "# Training setup\n",
    "accelerator = Accelerator(cpu=True)\n",
    "device = accelerator.device\n",
    "model.to(device)\n",
    "optimizer = AdamW(model.parameters(), lr=6e-4, betas=(0.9, 0.95), weight_decay=1e-1)\n",
    "model, optimizer, train_dataloader, valid_dataloader = accelerator.prepare(model, optimizer, train_dataloader, valid_dataloader)\n",
    "\n",
    "logger = Logger()\n",
    "early_stop = EarlyStop(logger, patience=20, min_delta=1e-3)\n",
    "\n",
    "# Training loop\n",
    "NUM_EPOCHS = 10\n",
    "history = { 'train_loss': [], 'val_loss': []}\n",
    "logger.log(f'Training on device={device}')\n",
    "for epoch in range(NUM_EPOCHS):\n",
    "    # 1. Training\n",
    "    train_loss = 0.0\n",
    "    model.train()\n",
    "    for idx, batch in enumerate(train_dataloader):\n",
    "        optimizer.zero_grad()\n",
    "        loss = forward(model, batch, device, CONFIG)\n",
    "        train_loss += loss.item()\n",
    "        accelerator.backward(loss); optimizer.step()\n",
    "    history['train_loss'].append(train_loss / idx)\n",
    "    # 2. Validation\n",
    "    val_loss = 0.0\n",
    "    model.eval()\n",
    "    with torch.no_grad():\n",
    "        for idx, batch in enumerate(valid_dataloader):\n",
    "            loss = forward(model, batch, device, CONFIG)\n",
    "            val_loss += loss.item()\n",
    "    history['val_loss'].append(val_loss / idx)\n",
    "    logger.log_epoch(epoch, history)\n",
    "    # 3. Early Stopping\n",
    "    if early_stop.update(model, epoch, history['val_loss'][-1]): break\n",
    "\n",
    "model_folder_name = model_builder.model+\"__\"+DNAME+\"__\"+datetime.now().strftime(\"%Y-%m-%d-%H:%M\")\n",
    "model_folder_path = os.path.join(\"..\",\"trained_models\",model_folder_name)\n",
    "if not os.path.exists(path=model_folder_path):\n",
    "    os.makedirs(model_folder_path)\n",
    "    # 5. Plot of Learning curves\n",
    "    learning_curves(history, path=model_folder_path)\n",
    "    # 6. Save the model\n",
    "    torch.save(early_stop.best_model, os.path.join(\"..\",\"trained_models\",model_folder_name,\"model_state.model\"))\n",
    "    pkl.dump(model_builder, open(os.path.join(\"..\",\"trained_models\",model_folder_name,\"model_builder.config\"), \"wb\"))"
   ]
  },
  {
   "cell_type": "code",
   "execution_count": null,
   "metadata": {},
   "outputs": [],
   "source": [
    "# Load the model\n",
    "model.load_state_dict(torch.load(os.path.join(model_folder_path,\"model_state.model\")))\n",
    "\n",
    "# Prediction\n",
    "model.eval()\n",
    "forecasts = [predict(model, batch, device, CONFIG) \n",
    "             for batch in tqdm(test_dataloader, total=math.ceil(len(datasets['test']) / BATCH_SIZE))]\n",
    "forecasts = np.vstack(forecasts)\n",
    "actuals = np.array([x[FieldName.TARGET][-data_info['h']:] for x in datasets['test']])\n",
    "actuals.shape, forecasts.shape\n",
    "pkl.dump((actuals, forecasts), open(os.path.join(model_folder_path,\"forecasts.pkl\"), \"wb\"))"
   ]
  },
  {
   "cell_type": "code",
   "execution_count": null,
   "metadata": {},
   "outputs": [],
   "source": [
    "# Quantile Loss\n",
    "metrics = {}\n",
    "metrics['quantile_loss'] = quantile_loss(actuals, forecasts, q=[0.25, 0.5, 0.8, 0.9, 0.95, 0.99])\n",
    "pkl.dump(metrics, open(os.path.join(model_folder_path,\"metrics.pkl\"), \"wb\"))"
   ]
  }
 ],
 "metadata": {
  "kernelspec": {
   "display_name": "its",
   "language": "python",
   "name": "python3"
  },
  "language_info": {
   "codemirror_mode": {
    "name": "ipython",
    "version": 3
   },
   "file_extension": ".py",
   "mimetype": "text/x-python",
   "name": "python",
   "nbconvert_exporter": "python",
   "pygments_lexer": "ipython3",
   "version": "3.11.7"
  }
 },
 "nbformat": 4,
 "nbformat_minor": 2
}
