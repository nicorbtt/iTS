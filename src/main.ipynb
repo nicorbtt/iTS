{
 "cells": [
  {
   "cell_type": "code",
   "execution_count": null,
   "metadata": {},
   "outputs": [],
   "source": [
    "from dataloader import load_raw, create_datasets, create_dataloaders\n",
    "from visual import learning_curves, forecast_plot\n",
    "from models import ModelConfig, forward, predict\n",
    "from measures import compute_intermittent_indicators, label_intermittent\n",
    "\n",
    "import numpy as np\n",
    "from tqdm import tqdm\n",
    "import math\n",
    "import torch\n",
    "from gluonts.dataset.field_names import FieldName\n",
    "from accelerate import Accelerator\n",
    "from torch.optim import AdamW"
   ]
  },
  {
   "cell_type": "code",
   "execution_count": null,
   "metadata": {},
   "outputs": [],
   "source": [
    "# Import data\n",
    "data_raw, data_info = load_raw(dataset_name=\"carparts\", datasets_folder_path=\"../data\")\n",
    "\n",
    "# Compute intermittent indicators\n",
    "adi, cv2 = compute_intermittent_indicators(data_raw)\n",
    "data_info['intermittent'] = label_intermittent(adi, cv2, f=\"intermittent\")\n",
    "data_info['lumpy'] = label_intermittent(adi, cv2, f=\"lumpy\")\n",
    "\n",
    "# Create Datasets (train, valid, test) objects\n",
    "datasets = create_datasets(data_raw, data_info)\n",
    "\n",
    "# Model config\n",
    "CONFIG = ModelConfig(datasets, data_info, model=\"deepAR\")\n",
    "CONFIG.batch_size = 128\n",
    "CONFIG.model_name = \"xxx\"\n",
    "\n",
    "# Dataloaders\n",
    "train_dataloader, valid_dataloader, test_dataloader = create_dataloaders(CONFIG, datasets, data_info, batch_size=CONFIG.batch_size)\n",
    "\n",
    "# Build the model\n",
    "model = CONFIG.build_model(distribution_head=\"negative_binomial\", scaling=None)"
   ]
  },
  {
   "cell_type": "code",
   "execution_count": null,
   "metadata": {},
   "outputs": [],
   "source": [
    "# Training setup\n",
    "accelerator = Accelerator(cpu=True)\n",
    "device = accelerator.device\n",
    "model.to(device)\n",
    "optimizer = AdamW(model.parameters(), lr=6e-4, betas=(0.9, 0.95), weight_decay=1e-1)\n",
    "model, optimizer, train_dataloader, valid_dataloader = accelerator.prepare(model, optimizer, train_dataloader, valid_dataloader)\n",
    "print(f'Training on device={device}')\n",
    "\n",
    "# Training loop\n",
    "NUM_EPOCHS = 10\n",
    "best_val_loss = np.inf\n",
    "best_model = None\n",
    "PATIENCE = 20\n",
    "min_delta = 0.001\n",
    "current_patience = 0\n",
    "history = { 'train_loss': [], 'val_loss': []}\n",
    "\n",
    "for epoch in range(NUM_EPOCHS):\n",
    "    train_loss = 0.0\n",
    "    model.train()\n",
    "    for idx, batch in enumerate(train_dataloader):\n",
    "        optimizer.zero_grad()\n",
    "        loss = forward(model, batch, device, CONFIG)\n",
    "        train_loss += loss.item()\n",
    "        accelerator.backward(loss)\n",
    "        optimizer.step()\n",
    "\n",
    "    history['train_loss'].append(train_loss / idx)\n",
    "    \n",
    "    val_loss = 0.0\n",
    "    model.eval()\n",
    "    with torch.no_grad():\n",
    "        for idx, batch in enumerate(valid_dataloader):\n",
    "            loss = forward(model, batch, device, CONFIG)\n",
    "            val_loss += loss.item()\n",
    "    history['val_loss'].append(val_loss / idx)\n",
    "\n",
    "    print(f\"Epoch {epoch+1} \\t Train Loss: {history['train_loss'][-1]:.3f} \\t Val Loss: {history['val_loss'][-1]:.3f}\")  # Log\n",
    "\n",
    "    if history['val_loss'][-1] < best_val_loss - min_delta:  # Early stopping\n",
    "        best_val_loss = history['val_loss'][-1]\n",
    "        best_model = model.state_dict()\n",
    "        print(f\"Early stopping, new validation best: {best_val_loss:.3f}, keep training!\")\n",
    "        current_patience = -1\n",
    "    current_patience += 1\n",
    "        \n",
    "    if current_patience == PATIENCE:\n",
    "        print(f\"Early stopping after {epoch+1} epochs. Validation best: {best_val_loss:.3f}\")\n",
    "        break\n",
    "\n",
    "# Load the best model state into the model\n",
    "model.load_state_dict(best_model)\n",
    "\n",
    "# Learning curves plot\n",
    "learning_curves(history, figsize=(10,3))"
   ]
  },
  {
   "cell_type": "code",
   "execution_count": null,
   "metadata": {},
   "outputs": [],
   "source": [
    "# Save the model\n",
    "torch.save(model.state_dict(), '../trained_models/'+CONFIG.model_name+'.model')\n",
    "\n",
    "# Load the model\n",
    "model.load_state_dict(torch.load('../trained_models/'+CONFIG.model_name+'.model'))"
   ]
  },
  {
   "cell_type": "code",
   "execution_count": null,
   "metadata": {},
   "outputs": [],
   "source": [
    "# Prediction\n",
    "model.eval()\n",
    "forecasts = [predict(model, batch, device, CONFIG) \n",
    "             for batch in tqdm(test_dataloader, total=math.ceil(len(datasets['test']) / CONFIG.batch_size))]\n",
    "forecasts = np.vstack(forecasts)\n",
    "forecasts.shape"
   ]
  },
  {
   "cell_type": "code",
   "execution_count": null,
   "metadata": {},
   "outputs": [],
   "source": [
    "# Forecast plot\n",
    "forecast_plot(10, forecasts, datasets, data_info, FieldName.TARGET)"
   ]
  }
 ],
 "metadata": {
  "kernelspec": {
   "display_name": "its",
   "language": "python",
   "name": "python3"
  },
  "language_info": {
   "codemirror_mode": {
    "name": "ipython",
    "version": 3
   },
   "file_extension": ".py",
   "mimetype": "text/x-python",
   "name": "python",
   "nbconvert_exporter": "python",
   "pygments_lexer": "ipython3",
   "version": "3.11.7"
  }
 },
 "nbformat": 4,
 "nbformat_minor": 2
}
