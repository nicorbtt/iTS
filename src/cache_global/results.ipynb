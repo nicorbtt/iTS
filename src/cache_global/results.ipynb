{
 "cells": [
  {
   "cell_type": "code",
   "execution_count": 52,
   "id": "initial_id",
   "metadata": {
    "ExecuteTime": {
     "end_time": "2024-10-18T16:41:19.283345Z",
     "start_time": "2024-10-18T16:41:19.273581Z"
    },
    "collapsed": true
   },
   "outputs": [],
   "source": [
    "import matplotlib.pyplot as plt\n",
    "import numpy as np\n",
    "import pickle as pkl\n",
    "import os\n",
    "import pandas as pd"
   ]
  },
  {
   "cell_type": "code",
   "execution_count": 53,
   "id": "7c2e93ade3101e19",
   "metadata": {
    "ExecuteTime": {
     "end_time": "2024-10-18T16:41:19.295685Z",
     "start_time": "2024-10-18T16:41:19.286672Z"
    }
   },
   "outputs": [],
   "source": [
    "dataset_name = \"M5\"\n",
    "methods = [\"NBs_new\", \"DNNs_new\"]\n",
    "\n",
    "quantiles = np.array([0.5, 0.8, 0.9, 0.95, 0.99])\n",
    "\n",
    "max_lag = {\n",
    "    'carparts':44,\n",
    "    'OnlineRetail':56,\n",
    "    'Auto':16,\n",
    "    'RAF':45,\n",
    "    'M5':150\n",
    "}\n",
    "\n",
    "dlen = {\n",
    "    'carparts':2489,\n",
    "    'OnlineRetail':2023,\n",
    "    'Auto':1227,\n",
    "    'RAF':5000,\n",
    "    'M5':29003\n",
    "}\n",
    "\n",
    "lags = np.arange(1,max_lag[dataset_name]) if dataset_name != \"M5\" else [1,2,3,4,5,6,7,8,9,10,15,20,25,30,50,80,100,150]"
   ]
  },
  {
   "cell_type": "code",
   "execution_count": 54,
   "id": "b017ce01bb660ad2",
   "metadata": {
    "ExecuteTime": {
     "end_time": "2024-10-18T16:41:20.023068Z",
     "start_time": "2024-10-18T16:41:19.305235Z"
    }
   },
   "outputs": [],
   "source": [
    "M = {}\n",
    "for method in methods:\n",
    "    M[method] = pkl.load(open(os.path.join(method+'_'+dataset_name+\".pkl\"), 'rb'))\n",
    "M['iETS'] = pkl.load(open(os.path.join(\"iETS\"+'_'+dataset_name+\".pkl\"), 'rb'))\n",
    "M['EmpQ'] = pkl.load(open(os.path.join(\"EmpQ\"+'_'+dataset_name+\".pkl\"), 'rb'))\n",
    "M['TweedieGP'] = pkl.load(open(os.path.join(\"Tweedie\"+'_'+dataset_name+\".pkl\"), 'rb'))\n",
    "\n",
    "mask = np.load(\"mask_onlineretail.npy\") if dataset_name == \"OnlineRetail\" else np.ones(dlen[dataset_name], dtype=bool)\n",
    "\n",
    "assert M['iETS']['QL50'][mask].shape[0] == M['EmpQ']['QL50'][mask].shape[0] == M['TweedieGP']['QL50'][mask].shape[0] == dlen[dataset_name]"
   ]
  },
  {
   "cell_type": "code",
   "execution_count": 55,
   "id": "164ac992",
   "metadata": {},
   "outputs": [],
   "source": [
    "plt.rcParams.update({\n",
    "    'axes.titlesize': 16,    # Title font size\n",
    "    'axes.labelsize': 12,    # X and Y label font size\n",
    "    'xtick.labelsize': 14,   # X tick label font size\n",
    "    'ytick.labelsize': 14,   # Y tick label font size\n",
    "    'legend.fontsize': 12    # Legend font size\n",
    "})"
   ]
  },
  {
   "cell_type": "code",
   "execution_count": null,
   "id": "47cb0d92221ca2e0",
   "metadata": {
    "ExecuteTime": {
     "end_time": "2024-10-18T16:41:20.781252Z",
     "start_time": "2024-10-18T16:41:20.051076Z"
    }
   },
   "outputs": [],
   "source": [
    "min_lag = 0\n",
    "Q = ['QL50', 'QL80', 'QL90', 'QL95', 'QL99']\n",
    "labels = {\n",
    "    'NBs_new':'glm.nb',\n",
    "    'DNNs_new':'fnn.nb',\n",
    "}\n",
    "fig, axs = plt.subplots(1,len(Q)-1, figsize=(12,4), sharex=True, sharey=True)\n",
    "colors = {\n",
    "    'iETS':'#1E90FF',\n",
    "    'EmpQ':'#4682B4',\n",
    "    'TweedieGP':'magenta',\n",
    "    'NBs_new':'red',\n",
    "    'DNNs_new':'orange',\n",
    "}\n",
    "for ax, q_ in zip(axs, Q[1:]):\n",
    "    ax.hlines(y=np.mean(M['EmpQ'][q_][mask]), xmin=min_lag+1, xmax=lags[-1], color=colors['EmpQ'], linestyle=':', label=\"EmpQ\", lw=2)\n",
    "    ax.hlines(y=np.mean(M['iETS'][q_][mask]), xmin=min_lag+1, xmax=lags[-1], color=colors['iETS'], linestyle='-', label=\"iETS\", lw=2)\n",
    "    ax.hlines(y=np.mean(M['TweedieGP'][q_][mask]), xmin=min_lag+1, xmax=lags[-1], color=colors['TweedieGP'], linestyle='-', label=\"TweedieGP\", lw=2)\n",
    "    for method in methods:\n",
    "        tmp = np.array([np.mean(M[method][l][q_][mask]) for l in lags])\n",
    "        tmp = pd.Series(tmp).rolling(window=3, min_periods=1, center=True).mean().tolist()\n",
    "        ax.plot(lags[min_lag:], tmp[min_lag:], color=colors[method], label=labels[method], lw=2)\n",
    "    ax.set_title(r\"$\\mathbf{sQL_{\"+q_[2:]+\"}}$\", fontweight='bold')\n",
    "    ax.set_xlabel('context length')\n",
    "    ax.spines['right'].set_visible(False)\n",
    "    ax.spines['top'].set_visible(False)\n",
    "    #ax.set_facecolor('#FAFAFA')\n",
    "    # ax.grid()\n",
    "# axs[0].set_ylabel(dataset_name)\n",
    "if dataset_name==\"M5\":\n",
    "    axs[0].set_ylim(1,3.5)\n",
    "elif dataset_name==\"OnlineRetail\":\n",
    "    axs[0].set_ylim(2.1,6)\n",
    "elif dataset_name==\"RAF\":\n",
    "    axs[0].set_ylim(0.8,6)\n",
    "\n",
    "if dataset_name in []:\n",
    "    axs[0].legend(loc=\"lower left\")\n",
    "else:\n",
    "    axs[0].legend(loc=\"upper left\")\n",
    "plt.tight_layout()\n",
    "plt.savefig(os.path.join(\"images\",dataset_name+'.svg'), format='svg')"
   ]
  },
  {
   "cell_type": "code",
   "execution_count": null,
   "id": "9820601b",
   "metadata": {},
   "outputs": [],
   "source": []
  }
 ],
 "metadata": {
  "kernelspec": {
   "display_name": "its",
   "language": "python",
   "name": "python3"
  },
  "language_info": {
   "codemirror_mode": {
    "name": "ipython",
    "version": 3
   },
   "file_extension": ".py",
   "mimetype": "text/x-python",
   "name": "python",
   "nbconvert_exporter": "python",
   "pygments_lexer": "ipython3",
   "version": "3.11.7"
  }
 },
 "nbformat": 4,
 "nbformat_minor": 5
}
